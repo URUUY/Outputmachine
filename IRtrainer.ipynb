{
 "cells": [
  {
   "cell_type": "code",
   "execution_count": 1,
   "id": "85a8cc23-4a92-4025-9232-de88cc29d1c7",
   "metadata": {},
   "outputs": [],
   "source": [
    "import torch\n",
    "import torchvision\n",
    "import torchvision.transforms as transforms\n",
    "import torch.nn as nn\n",
    "import torch.optim as optim\n",
    "from torchvision import models\n",
    "from torch.utils.data import DataLoader\n",
    "\n",
    "from torchvision.datasets import ImageFolder\n",
    " \n",
    "import torch\n",
    "from torchvision import transforms, datasets\n",
    "import torch.nn as nn\n",
    "from torch.utils.data import DataLoader\n",
    "\n",
    "from torchvision import datasets, transforms\n",
    "from torch.utils.data import DataLoader, random_split"
   ]
  },
  {
   "cell_type": "code",
   "execution_count": null,
   "id": "1ebd0fbe-1782-4541-9685-59de03d4cefe",
   "metadata": {},
   "outputs": [],
   "source": [
    "device = torch.device(\"cuda\" if torch.cuda.is_available() else \"cpu\")\n",
    "torch.manual_seed(42)"
   ]
  },
  {
   "cell_type": "code",
   "execution_count": 3,
   "id": "844c32c3-b6f8-429a-9941-05f0caca04e9",
   "metadata": {},
   "outputs": [],
   "source": [
    "transforms = transforms.Compose([\n",
    "    transforms.Resize((224, 224)),  # ResNet input\n",
    "    transforms.RandomHorizontalFlip(),\n",
    "    transforms.RandomRotation(15),\n",
    "    transforms.ToTensor(),\n",
    "    transforms.Normalize(mean=[0.485, 0.456, 0.406], std=[0.229, 0.224, 0.225]),\n",
    "])\n"
   ]
  },
  {
   "cell_type": "code",
   "execution_count": 4,
   "id": "9952f389-96a0-4f38-8067-2f2d31c16a71",
   "metadata": {},
   "outputs": [],
   "source": [
    "path = r\"F:\\Dataset\\FoodSeg103_img\\IR\"\n",
    "\n",
    "data_train = datasets.ImageFolder(path, transform=transforms)\n",
    " \n",
    "data_loader = DataLoader(data_train, batch_size=64, shuffle=True)"
   ]
  },
  {
   "cell_type": "code",
   "execution_count": 5,
   "id": "b8a8d451-46e7-4df4-b3ad-2b67c4c5ff39",
   "metadata": {},
   "outputs": [],
   "source": [
    "data_train = datasets.ImageFolder(path, transform=transforms)\n",
    "\n",
    "# split ds init\n",
    "train_ratio = 0.8  # 80% for train，20% for test\n",
    "train_size = int(len(data_train) * train_ratio)\n",
    "test_size = len(data_train) - train_size\n",
    "\n",
    "# split\n",
    "train_dataset, test_dataset = random_split(data_train, [train_size, test_size])\n",
    "\n",
    "# DataLoader\n",
    "train_loader = DataLoader(train_dataset, batch_size=64, shuffle=True)\n",
    "test_loader = DataLoader(test_dataset, batch_size=64, shuffle=False)"
   ]
  },
  {
   "cell_type": "code",
   "execution_count": 6,
   "id": "803334bc-5acf-4fbf-bd6f-cf0dba557c51",
   "metadata": {},
   "outputs": [
    {
     "name": "stdout",
     "output_type": "stream",
     "text": [
      "Total images: 18313\n",
      "Training images: 14650\n",
      "Testing images: 3663\n"
     ]
    }
   ],
   "source": [
    "print(f\"Total images: {len(data_train)}\")\n",
    "print(f\"Training images: {len(train_dataset)}\")\n",
    "print(f\"Testing images: {len(test_dataset)}\")"
   ]
  },
  {
   "cell_type": "code",
   "execution_count": 7,
   "id": "205c168a-5c4a-4159-9a1b-ea0238edd9b4",
   "metadata": {},
   "outputs": [
    {
     "name": "stdout",
     "output_type": "stream",
     "text": [
      "18313\n"
     ]
    }
   ],
   "source": [
    "print(len(data_train))  # number of all image"
   ]
  },
  {
   "cell_type": "code",
   "execution_count": 8,
   "id": "120a9e0b-60af-4e18-bb01-3244e1a43947",
   "metadata": {},
   "outputs": [
    {
     "name": "stderr",
     "output_type": "stream",
     "text": [
      "Clipping input data to the valid range for imshow with RGB data ([0..1] for floats or [0..255] for integers). Got range [-2.117904..1.7865399].\n"
     ]
    },
    {
     "data": {
      "image/png": "[encoded data removed]",
      "text/plain": [
       "<Figure size 300x300 with 1 Axes>"
      ]
     },
     "metadata": {},
     "output_type": "display_data"
    }
   ],
   "source": [
    "import matplotlib.pyplot as plt\n",
    "import random\n",
    "\n",
    "# random seclect\n",
    "random_idx = random.randint(0, len(train_dataset) - 1)  # random index\n",
    "image, label = train_dataset[random_idx]  # get image and label\n",
    "\n",
    "# visible\n",
    "plt.figure(figsize=(3, 3))\n",
    "plt.imshow(image.permute(1, 2, 0))  # HWC\n",
    "plt.title(f\"Label: {label}\")\n",
    "plt.axis(\"off\")\n",
    "plt.show()\n"
   ]
  },
  {
   "cell_type": "code",
   "execution_count": 9,
   "id": "4b18e371-0b30-4ec1-a8e0-25b933deff83",
   "metadata": {},
   "outputs": [
    {
     "name": "stderr",
     "output_type": "stream",
     "text": [
      "F:\\Anaconda\\envs\\myenv\\lib\\site-packages\\torchvision\\models\\_utils.py:208: UserWarning: The parameter 'pretrained' is deprecated since 0.13 and may be removed in the future, please use 'weights' instead.\n",
      "  warnings.warn(\n",
      "F:\\Anaconda\\envs\\myenv\\lib\\site-packages\\torchvision\\models\\_utils.py:223: UserWarning: Arguments other than a weight enum or `None` for 'weights' are deprecated since 0.13 and may be removed in the future. The current behavior is equivalent to passing `weights=ResNet50_Weights.IMAGENET1K_V1`. You can also use `weights=ResNet50_Weights.DEFAULT` to get the most up-to-date weights.\n",
      "  warnings.warn(msg)\n"
     ]
    }
   ],
   "source": [
    "model = models.resnet50(pretrained=True)\n",
    "num_features = model.fc.in_features\n",
    "model.fc = nn.Linear(num_features, 103)\n",
    "model = model.to(device)"
   ]
  },
  {
   "cell_type": "code",
   "execution_count": 10,
   "id": "48ffc6fc-1c88-4c3f-af8b-501e1c312e41",
   "metadata": {},
   "outputs": [],
   "source": [
    "criterion = nn.CrossEntropyLoss()\n",
    "optimizer = optim.Adam(model.parameters(), lr=0.0001)\n"
   ]
  },
  {
   "cell_type": "code",
   "execution_count": 11,
   "id": "9007e9e6-9747-4713-bb3b-5f5bc65ef3e7",
   "metadata": {},
   "outputs": [],
   "source": [
    "def train_model(model, train_loader, criterion, optimizer, num_epochs=10):\n",
    "    model.train()\n",
    "    for epoch in range(num_epochs):\n",
    "        print(f\"\\nStarting Epoch {epoch + 1}/{num_epochs}...\")\n",
    "        running_loss = 0.0\n",
    "        correct = 0\n",
    "        total = 0\n",
    "        \n",
    "        for batch_idx, (inputs, labels) in enumerate(train_loader):\n",
    "            inputs, labels = inputs.to(device), labels.to(device)\n",
    "            \n",
    "            # f\n",
    "            outputs = model(inputs)\n",
    "            loss = criterion(outputs, labels)\n",
    "            \n",
    "            # b and op\n",
    "            optimizer.zero_grad()\n",
    "            loss.backward()\n",
    "            optimizer.step()\n",
    "            \n",
    "            running_loss += loss.item()\n",
    "            \n",
    "            # cal acc\n",
    "            _, predicted = torch.max(outputs, 1)\n",
    "            total += labels.size(0)\n",
    "            correct += (predicted == labels).sum().item()\n",
    "            \n",
    "            # look process\n",
    "            if (batch_idx + 1) % 500 == 0:\n",
    "                print(f\"Epoch [{epoch + 1}/{num_epochs}], Step [{batch_idx + 1}/{len(train_loader)}], \"\n",
    "                      f\"Loss: {loss.item():.4f}, Accuracy: {100 * correct / total:.2f}%\")\n",
    "        \n",
    "        # look each epoch\n",
    "        epoch_loss = running_loss / len(train_loader)\n",
    "        epoch_accuracy = 100 * correct / total\n",
    "        print(f\"Epoch {epoch + 1} completed with Loss: {epoch_loss:.4f}, Accuracy: {epoch_accuracy:.2f}%\")\n",
    "\n",
    "def evaluate_model(model, test_loader):\n",
    "    model.eval()\n",
    "    correct = 0\n",
    "    total = 0\n",
    "    with torch.no_grad():\n",
    "        for inputs, labels in test_loader:\n",
    "            inputs, labels = inputs.to(device), labels.to(device)\n",
    "            outputs = model(inputs)\n",
    "            _, predicted = torch.max(outputs, 1)\n",
    "            total += labels.size(0)\n",
    "            correct += (predicted == labels).sum().item()\n",
    "    \n",
    "    print(f\"Test Accuracy: {100 * correct / total:.2f}%\")"
   ]
  },
  {
   "cell_type": "code",
   "execution_count": 12,
   "id": "2c03c044-915c-4f17-87aa-de835cc7f92d",
   "metadata": {},
   "outputs": [
    {
     "name": "stdout",
     "output_type": "stream",
     "text": [
      "\n",
      "Starting Epoch 1/30...\n",
      "Epoch 1 completed with Loss: 2.2010, Accuracy: 46.71%\n",
      "\n",
      "Starting Epoch 2/30...\n",
      "Epoch 2 completed with Loss: 1.4239, Accuracy: 60.97%\n",
      "\n",
      "Starting Epoch 3/30...\n",
      "Epoch 3 completed with Loss: 1.1620, Accuracy: 67.00%\n",
      "\n",
      "Starting Epoch 4/30...\n",
      "Epoch 4 completed with Loss: 0.9751, Accuracy: 71.65%\n",
      "\n",
      "Starting Epoch 5/30...\n",
      "Epoch 5 completed with Loss: 0.8098, Accuracy: 75.75%\n",
      "\n",
      "Starting Epoch 6/30...\n",
      "Epoch 6 completed with Loss: 0.6772, Accuracy: 79.67%\n",
      "\n",
      "Starting Epoch 7/30...\n",
      "Epoch 7 completed with Loss: 0.5590, Accuracy: 83.09%\n",
      "\n",
      "Starting Epoch 8/30...\n",
      "Epoch 8 completed with Loss: 0.4662, Accuracy: 85.89%\n",
      "\n",
      "Starting Epoch 9/30...\n",
      "Epoch 9 completed with Loss: 0.3798, Accuracy: 88.68%\n",
      "\n",
      "Starting Epoch 10/30...\n",
      "Epoch 10 completed with Loss: 0.2991, Accuracy: 91.17%\n",
      "\n",
      "Starting Epoch 11/30...\n",
      "Epoch 11 completed with Loss: 0.2607, Accuracy: 92.17%\n",
      "\n",
      "Starting Epoch 12/30...\n",
      "Epoch 12 completed with Loss: 0.2319, Accuracy: 93.32%\n",
      "\n",
      "Starting Epoch 13/30...\n",
      "Epoch 13 completed with Loss: 0.1932, Accuracy: 94.42%\n",
      "\n",
      "Starting Epoch 14/30...\n",
      "Epoch 14 completed with Loss: 0.1897, Accuracy: 94.16%\n",
      "\n",
      "Starting Epoch 15/30...\n",
      "Epoch 15 completed with Loss: 0.1864, Accuracy: 94.35%\n",
      "\n",
      "Starting Epoch 16/30...\n",
      "Epoch 16 completed with Loss: 0.1436, Accuracy: 95.67%\n",
      "\n",
      "Starting Epoch 17/30...\n",
      "Epoch 17 completed with Loss: 0.1394, Accuracy: 95.86%\n",
      "\n",
      "Starting Epoch 18/30...\n",
      "Epoch 18 completed with Loss: 0.1124, Accuracy: 96.64%\n",
      "\n",
      "Starting Epoch 19/30...\n",
      "Epoch 19 completed with Loss: 0.1284, Accuracy: 96.08%\n",
      "\n",
      "Starting Epoch 20/30...\n",
      "Epoch 20 completed with Loss: 0.1250, Accuracy: 96.22%\n",
      "\n",
      "Starting Epoch 21/30...\n",
      "Epoch 21 completed with Loss: 0.1171, Accuracy: 96.45%\n",
      "\n",
      "Starting Epoch 22/30...\n",
      "Epoch 22 completed with Loss: 0.1361, Accuracy: 95.86%\n",
      "\n",
      "Starting Epoch 23/30...\n",
      "Epoch 23 completed with Loss: 0.1214, Accuracy: 96.44%\n",
      "\n",
      "Starting Epoch 24/30...\n",
      "Epoch 24 completed with Loss: 0.1154, Accuracy: 96.58%\n",
      "\n",
      "Starting Epoch 25/30...\n",
      "Epoch 25 completed with Loss: 0.0933, Accuracy: 97.24%\n",
      "\n",
      "Starting Epoch 26/30...\n",
      "Epoch 26 completed with Loss: 0.0855, Accuracy: 97.54%\n",
      "\n",
      "Starting Epoch 27/30...\n",
      "Epoch 27 completed with Loss: 0.0957, Accuracy: 96.98%\n",
      "\n",
      "Starting Epoch 28/30...\n",
      "Epoch 28 completed with Loss: 0.0976, Accuracy: 97.11%\n",
      "\n",
      "Starting Epoch 29/30...\n",
      "Epoch 29 completed with Loss: 0.0854, Accuracy: 97.48%\n",
      "\n",
      "Starting Epoch 30/30...\n",
      "Epoch 30 completed with Loss: 0.0929, Accuracy: 97.24%\n"
     ]
    }
   ],
   "source": [
    "train_model(model, train_loader, criterion, optimizer, num_epochs=30)"
   ]
  },
  {
   "cell_type": "code",
   "execution_count": 13,
   "id": "9b6d8acc-1d8f-4545-8997-962eebcb6e93",
   "metadata": {},
   "outputs": [
    {
     "name": "stdout",
     "output_type": "stream",
     "text": [
      "Test Accuracy: 60.33%\n"
     ]
    }
   ],
   "source": [
    "evaluate_model(model, test_loader)\n",
    "\n",
    "# save\n",
    "torch.save(model.state_dict(), \"resnet50_foodseg103_50ep.pth\")"
   ]
  },
  {
   "cell_type": "code",
   "execution_count": null,
   "id": "16f89e2e-feef-457c-9380-4e40059932cd",
   "metadata": {},
   "outputs": [],
   "source": []
  }
 ],
 "metadata": {
  "kernelspec": {
   "display_name": "Python 3 (ipykernel)",
   "language": "python",
   "name": "python3"
  },
  "language_info": {
   "codemirror_mode": {
    "name": "ipython",
    "version": 3
   },
   "file_extension": ".py",
   "mimetype": "text/x-python",
   "name": "python",
   "nbconvert_exporter": "python",
   "pygments_lexer": "ipython3",
   "version": "3.9.21"
  }
 },
 "nbformat": 4,
 "nbformat_minor": 5
}
